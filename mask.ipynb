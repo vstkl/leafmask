{
 "cells": [
  {
   "cell_type": "code",
   "execution_count": 13,
   "id": "e3a3960b-cfc5-46f8-a89c-cf46b17bf1e5",
   "metadata": {},
   "outputs": [],
   "source": [
    "from jupyterscad import view\n",
    "from solid2 import *"
   ]
  },
  {
   "cell_type": "code",
   "execution_count": 15,
   "id": "148053db-4a25-42f4-9e5e-d270a268af9c",
   "metadata": {},
   "outputs": [
    {
     "data": {
      "application/vnd.jupyter.widget-view+json": {
       "model_id": "3600d3f3f7754c558d562ac6ad70dac1",
       "version_major": 2,
       "version_minor": 0
      },
      "text/plain": [
       "Renderer(camera=PerspectiveCamera(children=(DirectionalLight(color='white', intensity=0.7, position=(3.0, 5.0,…"
      ]
     },
     "execution_count": 15,
     "metadata": {},
     "output_type": "execute_result"
    }
   ],
   "source": [
    "head = import_stl(\"models/head.stl\")\n",
    "\n",
    "view(head)"
   ]
  },
  {
   "cell_type": "code",
   "execution_count": 19,
   "id": "f96b41d6-b272-4f6a-b10d-26f6deb3b459",
   "metadata": {},
   "outputs": [
    {
     "ename": "OpenSCADError",
     "evalue": "Geometries in cache: 1\nGeometry cache size in bytes: 560\nCGAL Polyhedrons in cache: 0\nCGAL cache size in bytes: 0\nTotal rendering time: 0:00:00.000\n   Top level object is a 2D object:\n   Contours:        1\nCurrent top level object is not a 3D object.\n",
     "output_type": "error",
     "traceback": [
      "\u001b[31m---------------------------------------------------------------------------\u001b[39m",
      "\u001b[31mCalledProcessError\u001b[39m                        Traceback (most recent call last)",
      "\u001b[36mFile \u001b[39m\u001b[32m~/3d/leafmask/env/lib/python3.13/site-packages/jupyterscad/_render.py:69\u001b[39m, in \u001b[36mprocess\u001b[39m\u001b[34m(scad_file, output_file, executable)\u001b[39m\n\u001b[32m     68\u001b[39m \u001b[38;5;28;01mtry\u001b[39;00m:\n\u001b[32m---> \u001b[39m\u001b[32m69\u001b[39m     out = \u001b[43msubprocess\u001b[49m\u001b[43m.\u001b[49m\u001b[43mrun\u001b[49m\u001b[43m(\u001b[49m\u001b[43mcmd\u001b[49m\u001b[43m,\u001b[49m\u001b[43m \u001b[49m\u001b[43mcheck\u001b[49m\u001b[43m=\u001b[49m\u001b[38;5;28;43;01mTrue\u001b[39;49;00m\u001b[43m,\u001b[49m\u001b[43m \u001b[49m\u001b[43mcapture_output\u001b[49m\u001b[43m=\u001b[49m\u001b[38;5;28;43;01mTrue\u001b[39;49;00m\u001b[43m,\u001b[49m\u001b[43m \u001b[49m\u001b[43mtext\u001b[49m\u001b[43m=\u001b[49m\u001b[38;5;28;43;01mTrue\u001b[39;49;00m\u001b[43m)\u001b[49m\n\u001b[32m     70\u001b[39m     \u001b[38;5;28;01mif\u001b[39;00m \u001b[33m\"\u001b[39m\u001b[33mERROR\u001b[39m\u001b[33m\"\u001b[39m \u001b[38;5;129;01min\u001b[39;00m out.stderr:\n",
      "\u001b[36mFile \u001b[39m\u001b[32m/usr/lib/python3.13/subprocess.py:577\u001b[39m, in \u001b[36mrun\u001b[39m\u001b[34m(input, capture_output, timeout, check, *popenargs, **kwargs)\u001b[39m\n\u001b[32m    576\u001b[39m     \u001b[38;5;28;01mif\u001b[39;00m check \u001b[38;5;129;01mand\u001b[39;00m retcode:\n\u001b[32m--> \u001b[39m\u001b[32m577\u001b[39m         \u001b[38;5;28;01mraise\u001b[39;00m CalledProcessError(retcode, process.args,\n\u001b[32m    578\u001b[39m                                  output=stdout, stderr=stderr)\n\u001b[32m    579\u001b[39m \u001b[38;5;28;01mreturn\u001b[39;00m CompletedProcess(process.args, retcode, stdout, stderr)\n",
      "\u001b[31mCalledProcessError\u001b[39m: Command '[PosixPath('/usr/bin/openscad'), '-o', '/tmp/tmp600wo7fl.stl', '/home/m/3d/leafmask/tmp66oo905t.scad']' returned non-zero exit status 1.",
      "\nDuring handling of the above exception, another exception occurred:\n",
      "\u001b[31mOpenSCADError\u001b[39m                             Traceback (most recent call last)",
      "\u001b[36mCell\u001b[39m\u001b[36m \u001b[39m\u001b[32mIn[19]\u001b[39m\u001b[32m, line 2\u001b[39m\n\u001b[32m      1\u001b[39m leaf = circle(\u001b[32m10\u001b[39m)\n\u001b[32m----> \u001b[39m\u001b[32m2\u001b[39m \u001b[43mview\u001b[49m\u001b[43m(\u001b[49m\u001b[43mleaf\u001b[49m\u001b[43m)\u001b[49m\n",
      "\u001b[36mFile \u001b[39m\u001b[32m~/3d/leafmask/env/lib/python3.13/site-packages/jupyterscad/_view.py:67\u001b[39m, in \u001b[36mview\u001b[39m\u001b[34m(obj, width, height, grid_unit, outfile, openscad_exec)\u001b[39m\n\u001b[32m     63\u001b[39m \u001b[38;5;28;01melse\u001b[39;00m:\n\u001b[32m     64\u001b[39m     \u001b[38;5;28;01mwith\u001b[39;00m tempfile.NamedTemporaryFile(\n\u001b[32m     65\u001b[39m         suffix=\u001b[33m\"\u001b[39m\u001b[33m.stl\u001b[39m\u001b[33m\"\u001b[39m, delete=\u001b[38;5;28;01mFalse\u001b[39;00m\n\u001b[32m     66\u001b[39m     ) \u001b[38;5;28;01mas\u001b[39;00m stl_tmp_file:\n\u001b[32m---> \u001b[39m\u001b[32m67\u001b[39m         \u001b[43mrender_stl\u001b[49m\u001b[43m(\u001b[49m\u001b[43mobj\u001b[49m\u001b[43m,\u001b[49m\u001b[43m \u001b[49m\u001b[43mstl_tmp_file\u001b[49m\u001b[43m.\u001b[49m\u001b[43mname\u001b[49m\u001b[43m,\u001b[49m\u001b[43m \u001b[49m\u001b[43mopenscad_exec\u001b[49m\u001b[43m=\u001b[49m\u001b[43mopenscad_exec\u001b[49m\u001b[43m)\u001b[49m\n\u001b[32m     68\u001b[39m         r = view_stl(\n\u001b[32m     69\u001b[39m             stl_tmp_file.name, width=width, height=height, grid_unit=grid_unit\n\u001b[32m     70\u001b[39m         )\n\u001b[32m     71\u001b[39m \u001b[38;5;28;01mreturn\u001b[39;00m r\n",
      "\u001b[36mFile \u001b[39m\u001b[32m~/3d/leafmask/env/lib/python3.13/site-packages/jupyterscad/_render.py:54\u001b[39m, in \u001b[36mrender_stl\u001b[39m\u001b[34m(obj, outfile, openscad_exec)\u001b[39m\n\u001b[32m     51\u001b[39m \u001b[38;5;28;01mwith\u001b[39;00m \u001b[38;5;28mopen\u001b[39m(scad_tmp_file.name, \u001b[33m\"\u001b[39m\u001b[33mw\u001b[39m\u001b[33m\"\u001b[39m) \u001b[38;5;28;01mas\u001b[39;00m fp:\n\u001b[32m     52\u001b[39m     fp.write(\u001b[38;5;28mstr\u001b[39m(obj))\n\u001b[32m---> \u001b[39m\u001b[32m54\u001b[39m \u001b[43mprocess\u001b[49m\u001b[43m(\u001b[49m\u001b[43mscad_tmp_file\u001b[49m\u001b[43m.\u001b[49m\u001b[43mname\u001b[49m\u001b[43m,\u001b[49m\u001b[43m \u001b[49m\u001b[43moutfile\u001b[49m\u001b[43m,\u001b[49m\u001b[43m \u001b[49m\u001b[43mexecutable\u001b[49m\u001b[43m=\u001b[49m\u001b[43mopenscad_exec\u001b[49m\u001b[43m)\u001b[49m\n",
      "\u001b[36mFile \u001b[39m\u001b[32m~/3d/leafmask/env/lib/python3.13/site-packages/jupyterscad/_render.py:75\u001b[39m, in \u001b[36mprocess\u001b[39m\u001b[34m(scad_file, output_file, executable)\u001b[39m\n\u001b[32m     73\u001b[39m         \u001b[38;5;28;01mraise\u001b[39;00m RenderError(message=out.stderr, src=scad_str)\n\u001b[32m     74\u001b[39m \u001b[38;5;28;01mexcept\u001b[39;00m subprocess.CalledProcessError \u001b[38;5;28;01mas\u001b[39;00m e:\n\u001b[32m---> \u001b[39m\u001b[32m75\u001b[39m     \u001b[38;5;28;01mraise\u001b[39;00m OpenSCADError(\u001b[38;5;28mstr\u001b[39m(e.stderr))\n",
      "\u001b[31mOpenSCADError\u001b[39m: Geometries in cache: 1\nGeometry cache size in bytes: 560\nCGAL Polyhedrons in cache: 0\nCGAL cache size in bytes: 0\nTotal rendering time: 0:00:00.000\n   Top level object is a 2D object:\n   Contours:        1\nCurrent top level object is not a 3D object.\n"
     ]
    }
   ],
   "source": [
    "leaf = circle(10)\n",
    "view(leaf)"
   ]
  },
  {
   "cell_type": "code",
   "execution_count": null,
   "id": "5fee2d4e-cee7-4636-9402-91b1c8a21769",
   "metadata": {},
   "outputs": [],
   "source": []
  }
 ],
 "metadata": {
  "kernelspec": {
   "display_name": "Python 3 (ipykernel)",
   "language": "python",
   "name": "python3"
  },
  "language_info": {
   "codemirror_mode": {
    "name": "ipython",
    "version": 3
   },
   "file_extension": ".py",
   "mimetype": "text/x-python",
   "name": "python",
   "nbconvert_exporter": "python",
   "pygments_lexer": "ipython3",
   "version": "3.13.7"
  }
 },
 "nbformat": 4,
 "nbformat_minor": 5
}
